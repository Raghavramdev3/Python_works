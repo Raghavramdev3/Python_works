{
 "cells": [
  {
   "cell_type": "code",
   "execution_count": null,
   "id": "bf0d3a56",
   "metadata": {},
   "outputs": [],
   "source": [
    "# Reverse a string"
   ]
  },
  {
   "cell_type": "code",
   "execution_count": 34,
   "id": "5681ea7a",
   "metadata": {},
   "outputs": [
    {
     "name": "stdout",
     "output_type": "stream",
     "text": [
      "olleH\n"
     ]
    }
   ],
   "source": [
    "def reverse_string(x):\n",
    "    return x[::-1]\n",
    "    \n",
    "x = \"Hello\"\n",
    "rs = reverse_string(x)  # calling a function\n",
    "print(rs)    "
   ]
  },
  {
   "cell_type": "code",
   "execution_count": 1,
   "id": "6c6a286d-4a2e-4ab3-8984-fa68c9065c89",
   "metadata": {},
   "outputs": [
    {
     "name": "stdout",
     "output_type": "stream",
     "text": [
      "dna\n"
     ]
    }
   ],
   "source": [
    "def rev(y):\n",
    "    return y[::-1]\n",
    "y = \"and\"\n",
    "r = rev(y)\n",
    "print(r)"
   ]
  },
  {
   "cell_type": "code",
   "execution_count": 7,
   "id": "3e57208d-13ef-496c-993b-dcf6f0f3343b",
   "metadata": {},
   "outputs": [
    {
     "name": "stdout",
     "output_type": "stream",
     "text": [
      "[0, 1]\n"
     ]
    }
   ],
   "source": [
    "class Solution:\n",
    "    def twoSum(self, nums, target):\n",
    "        for i in range(len(nums)):\n",
    "            for j in range(i+1, len(nums)):\n",
    "                if nums[j] == target - nums[i]:\n",
    "                    return [i,j]\n",
    "solution = Solution()\n",
    "nums = [2,7,11,15]\n",
    "target = 9\n",
    "print(solution.twoSum(nums, target))"
   ]
  },
  {
   "cell_type": "code",
   "execution_count": null,
   "id": "9041d1b8-1e9a-4443-bb47-198c5fe1ae46",
   "metadata": {},
   "outputs": [],
   "source": []
  },
  {
   "cell_type": "code",
   "execution_count": null,
   "id": "b9bb7364",
   "metadata": {},
   "outputs": [],
   "source": [
    "# Reverse a integer"
   ]
  },
  {
   "cell_type": "code",
   "execution_count": 8,
   "id": "00b1b0f8",
   "metadata": {},
   "outputs": [
    {
     "name": "stdout",
     "output_type": "stream",
     "text": [
      "654321\n"
     ]
    }
   ],
   "source": [
    "def reverse_integer(n):\n",
    "\n",
    "    s = str(n)\n",
    "    rs = s[::-1]\n",
    "    rn = int(rs)\n",
    "    return (rn)\n",
    "n = 123456\n",
    "x = reverse_integer(n)\n",
    "print(x)"
   ]
  },
  {
   "cell_type": "code",
   "execution_count": null,
   "id": "3d74f920",
   "metadata": {},
   "outputs": [],
   "source": [
    "# Factorial of a number"
   ]
  },
  {
   "cell_type": "code",
   "execution_count": null,
   "id": "fe5c526a",
   "metadata": {},
   "outputs": [],
   "source": []
  },
  {
   "cell_type": "code",
   "execution_count": 2,
   "id": "8f378325",
   "metadata": {},
   "outputs": [
    {
     "name": "stdout",
     "output_type": "stream",
     "text": [
      "120\n"
     ]
    }
   ],
   "source": [
    "def factorial(n):\n",
    "    if n== 0:\n",
    "        return 1\n",
    "    else:\n",
    "        return n * factorial(n-1)\n",
    "n = 5\n",
    "result = factorial(n)\n",
    "print(result)"
   ]
  },
  {
   "cell_type": "code",
   "execution_count": null,
   "id": "4785d084",
   "metadata": {},
   "outputs": [],
   "source": []
  },
  {
   "cell_type": "code",
   "execution_count": null,
   "id": "5cfd52d2",
   "metadata": {},
   "outputs": [],
   "source": [
    "# is palindrome or not - reverse string is same as forward string"
   ]
  },
  {
   "cell_type": "code",
   "execution_count": 6,
   "id": "d14982c3",
   "metadata": {},
   "outputs": [
    {
     "name": "stdout",
     "output_type": "stream",
     "text": [
      "True\n",
      "False\n"
     ]
    }
   ],
   "source": [
    "def is_palindrome(s):\n",
    "    clean_s = ''.join(char.lower() for char in s if char.isalnum())# Remove all non-alphanumeric characters and convert to lowercase\n",
    "    return clean_s == clean_s[::-1]                                # Check if the cleaned string is equal to its reverse\n",
    "    \n",
    "print(is_palindrome(\"A man, a plan, a canal: Panama\"))  # Output: True\n",
    "print(is_palindrome(\"race a car\"))  # Output: False\n"
   ]
  },
  {
   "cell_type": "code",
   "execution_count": null,
   "id": "97375919",
   "metadata": {},
   "outputs": [],
   "source": []
  },
  {
   "cell_type": "code",
   "execution_count": null,
   "id": "38040295",
   "metadata": {},
   "outputs": [],
   "source": [
    "# function to find the second largest number in a list."
   ]
  },
  {
   "cell_type": "code",
   "execution_count": null,
   "id": "7a112661",
   "metadata": {},
   "outputs": [],
   "source": [
    "def second_largest(numbers):\n",
    "    # Remove duplicates by converting the list to a set\n",
    "    unique_numbers = list(set(numbers))\n",
    "    \n",
    "    # If there are fewer than 2 unique numbers, return None\n",
    "    if len(unique_numbers) < 2:\n",
    "        return None\n",
    "    \n",
    "    # Sort the unique numbers in descending order\n",
    "    unique_numbers.sort(reverse=True)\n",
    "    \n",
    "    # The second largest number is now the second element in the sorted list\n",
    "    return unique_numbers[1]\n",
    "\n",
    "# Example usage\n",
    "print(second_largest([1, 2, 3, 4, 5]))  # Output: 4\n",
    "print(second_largest([5, 5, 5, 5]))     # Output: None\n",
    "print(second_largest([2, 1, 3, 3, 2]))  # Output: 2\n"
   ]
  },
  {
   "cell_type": "code",
   "execution_count": 1,
   "id": "1def709f",
   "metadata": {},
   "outputs": [
    {
     "name": "stdout",
     "output_type": "stream",
     "text": [
      "6\n",
      "None\n",
      "7\n"
     ]
    }
   ],
   "source": [
    "def second_largest(num):\n",
    "    num = list(set(num))\n",
    "    if len(num) < 2:\n",
    "        return None\n",
    "    num.sort(reverse = 1)\n",
    "    return num[1]\n",
    "print(second_largest([1,6,5,3,33]))\n",
    "print(second_largest([1,]))\n",
    "print(second_largest([1,2,3,5,7,9,0]))\n"
   ]
  },
  {
   "cell_type": "code",
   "execution_count": null,
   "id": "aec2f715",
   "metadata": {},
   "outputs": [],
   "source": []
  },
  {
   "cell_type": "code",
   "execution_count": null,
   "id": "7df10589",
   "metadata": {},
   "outputs": [],
   "source": [
    "# Given an array of integers, write a function to find the maximum sum of any contiguous subarray of the array."
   ]
  },
  {
   "cell_type": "code",
   "execution_count": 6,
   "id": "478cbd54",
   "metadata": {},
   "outputs": [
    {
     "name": "stdout",
     "output_type": "stream",
     "text": [
      "Maximum subarray sum: 6\n"
     ]
    }
   ],
   "source": [
    "def max_subarray_sum(arr):\n",
    "    # Initialize variables to store the maximum sum and the current sum\n",
    "    max_sum = float('-inf')\n",
    "    current_sum = 0\n",
    "\n",
    "    for n in arr:\n",
    "        current_sum = max(n, current_sum + n)\n",
    "        max_sum = max(max_sum, current_sum)\n",
    "\n",
    "    return max_sum\n",
    "\n",
    "# Example usage\n",
    "arr = [-2, 1, -3, 4, -1, 2, 1, -5, 4]\n",
    "print(\"Maximum subarray sum:\", max_subarray_sum(arr))\n"
   ]
  },
  {
   "cell_type": "code",
   "execution_count": null,
   "id": "0a484c51",
   "metadata": {},
   "outputs": [],
   "source": []
  }
 ],
 "metadata": {
  "kernelspec": {
   "display_name": "Python 3 (ipykernel)",
   "language": "python",
   "name": "python3"
  },
  "language_info": {
   "codemirror_mode": {
    "name": "ipython",
    "version": 3
   },
   "file_extension": ".py",
   "mimetype": "text/x-python",
   "name": "python",
   "nbconvert_exporter": "python",
   "pygments_lexer": "ipython3",
   "version": "3.12.4"
  }
 },
 "nbformat": 4,
 "nbformat_minor": 5
}
