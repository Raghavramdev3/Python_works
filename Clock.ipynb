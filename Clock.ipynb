{
 "cells": [
  {
   "cell_type": "code",
   "execution_count": 13,
   "id": "2c3385e0",
   "metadata": {},
   "outputs": [],
   "source": [
    "from tkinter import *\n",
    "from tkinter.ttk import *\n",
    "from time import strftime\n",
    "\n",
    "root = Tk()\n",
    "root.title(\"Clock\")\n",
    "\n",
    "def time():\n",
    "    string = strftime('%I:%M:%S:%p')\n",
    "    label.config(text=string)\n",
    "    label.after(1000,time)\n",
    "\n",
    "\n",
    "label = Label(root, font=(\"ds-digital\", 80), background = \"black\", foreground = \"cyan\")\n",
    "label.pack(anchor = 'center')\n",
    "time()\n",
    "mainloop()"
   ]
  },
  {
   "cell_type": "code",
   "execution_count": null,
   "id": "e00f90ad",
   "metadata": {},
   "outputs": [],
   "source": []
  },
  {
   "cell_type": "code",
   "execution_count": null,
   "id": "812a8b5d",
   "metadata": {},
   "outputs": [],
   "source": []
  },
  {
   "cell_type": "code",
   "execution_count": 1,
   "id": "bb6c8d89",
   "metadata": {},
   "outputs": [],
   "source": [
    "# BASIC WINDOW WITH A BUTTON\n",
    "\n",
    "# import tkinter as tk\n",
    "\n",
    "# def on_button_click():\n",
    "#     label.config(text=\"Hello, Tkinter!\")\n",
    "\n",
    "# # Create a Tkinter window\n",
    "# window = tk.Tk()\n",
    "# window.title(\"Tkinter Example\")\n",
    "\n",
    "# # Create a label and button widget\n",
    "# label = tk.Label(window, text=\"Press the button!\")\n",
    "# button = tk.Button(window, text=\"Click Me\", command=on_button_click)\n",
    "\n",
    "# # Pack widgets to arrange them in the window\n",
    "# label.pack()\n",
    "# button.pack()\n",
    "\n",
    "# # Start the Tkinter event loop\n",
    "# window.mainloop()\n"
   ]
  }
 ],
 "metadata": {
  "kernelspec": {
   "display_name": "Python 3 (ipykernel)",
   "language": "python",
   "name": "python3"
  },
  "language_info": {
   "codemirror_mode": {
    "name": "ipython",
    "version": 3
   },
   "file_extension": ".py",
   "mimetype": "text/x-python",
   "name": "python",
   "nbconvert_exporter": "python",
   "pygments_lexer": "ipython3",
   "version": "3.9.7"
  }
 },
 "nbformat": 4,
 "nbformat_minor": 5
}
